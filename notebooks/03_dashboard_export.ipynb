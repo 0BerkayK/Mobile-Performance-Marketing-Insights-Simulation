{
 "cells": [
  {
   "cell_type": "code",
   "execution_count": 1,
   "id": "140c6a16-25ad-4127-8a9e-7db1d906c99e",
   "metadata": {},
   "outputs": [],
   "source": [
    "import pandas as pd\n",
    "import os"
   ]
  },
  {
   "cell_type": "code",
   "execution_count": 2,
   "id": "d5730405-19aa-4311-af4d-ef475bf7e245",
   "metadata": {},
   "outputs": [],
   "source": [
    "df = pd.read_csv(\"../data/campaign_data.csv\")"
   ]
  },
  {
   "cell_type": "code",
   "execution_count": 3,
   "id": "cba20507-f119-4c4f-a8be-8e966f9fdb95",
   "metadata": {},
   "outputs": [],
   "source": [
    "# KPI Calculations\n",
    "\n",
    "df[\"CTR\"] = df[\"clicks\"] / df[\"impressions\"]\n",
    "df[\"CVR\"] = df[\"installs\"] / df[\"clicks\"]\n",
    "df[\"CPI\"] = df[\"spend\"] / df[\"installs\"]\n",
    "df[\"ROAS\"] = df[\"revenue\"] / df[\"spend\"]\n",
    "df[\"ARPU\"] = df[\"revenue\"] / df[\"installs\"]\n",
    "df[\"LTV\"] = df[\"ARPU\"] * 90\n"
   ]
  },
  {
   "cell_type": "code",
   "execution_count": 4,
   "id": "244b059c-8ff7-45e8-bff6-be638b1a5bcc",
   "metadata": {},
   "outputs": [],
   "source": [
    "# Date format (for Power BI compatibility)\n",
    "df[\"date\"] = pd.to_datetime(df[\"date\"])"
   ]
  },
  {
   "cell_type": "code",
   "execution_count": 5,
   "id": "a30d3993-f9eb-4b87-9202-a480d6dfcf6c",
   "metadata": {},
   "outputs": [],
   "source": [
    "os.makedirs(\"../dashboards\", exist_ok=True)"
   ]
  },
  {
   "cell_type": "code",
   "execution_count": 6,
   "id": "4cec4c46-0014-47cf-86bd-dad8412ebc01",
   "metadata": {},
   "outputs": [],
   "source": [
    "# Saving a Power BI dataset\n",
    "export_path = \"../dashboards/performance_dashboard_data.csv\"\n",
    "df.to_csv(export_path, index=False)"
   ]
  },
  {
   "cell_type": "code",
   "execution_count": 7,
   "id": "a1b20c2b-d870-4b5e-849e-8875a1470149",
   "metadata": {},
   "outputs": [
    {
     "name": "stdout",
     "output_type": "stream",
     "text": [
      " Power BI dataset created: ../dashboards/performance_dashboard_data.csv\n"
     ]
    }
   ],
   "source": [
    "print(f\" Power BI dataset created: {export_path}\")"
   ]
  },
  {
   "cell_type": "code",
   "execution_count": null,
   "id": "8741d72b-be0d-4884-91f9-178b75910b50",
   "metadata": {},
   "outputs": [],
   "source": []
  }
 ],
 "metadata": {
  "kernelspec": {
   "display_name": "Python 3 (ipykernel)",
   "language": "python",
   "name": "python3"
  },
  "language_info": {
   "codemirror_mode": {
    "name": "ipython",
    "version": 3
   },
   "file_extension": ".py",
   "mimetype": "text/x-python",
   "name": "python",
   "nbconvert_exporter": "python",
   "pygments_lexer": "ipython3",
   "version": "3.12.7"
  }
 },
 "nbformat": 4,
 "nbformat_minor": 5
}
