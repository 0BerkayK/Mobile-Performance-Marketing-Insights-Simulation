{
 "cells": [
  {
   "cell_type": "code",
   "execution_count": 7,
   "id": "548710fb-0572-4934-87f7-bb9556dbb65d",
   "metadata": {},
   "outputs": [],
   "source": [
    "import pandas as pd\n",
    "import os"
   ]
  },
  {
   "cell_type": "code",
   "execution_count": 8,
   "id": "54e31887-a811-4de5-8da5-3aa4531556d3",
   "metadata": {},
   "outputs": [],
   "source": [
    "df = pd.read_csv(\"../data/campaign_data.csv\")"
   ]
  },
  {
   "cell_type": "markdown",
   "id": "de831a75-8c05-41f5-ae56-7e21bed8d35b",
   "metadata": {},
   "source": [
    "## KPI Calculations"
   ]
  },
  {
   "cell_type": "code",
   "execution_count": 10,
   "id": "469a0e51-e5de-4145-9a1f-811dcc1d2b76",
   "metadata": {},
   "outputs": [],
   "source": [
    "# Basic KPI calculations\n",
    "df[\"CTR\"] = df[\"clicks\"] / df[\"impressions\"]\n",
    "df[\"CVR\"] = df[\"installs\"] / df[\"clicks\"]\n",
    "df[\"CPI\"] = df[\"spend\"] / df[\"installs\"]\n",
    "df[\"ROAS\"] = df[\"revenue\"] / df[\"spend\"]\n",
    "df[\"ARPU\"] = df[\"revenue\"] / df[\"installs\"]\n",
    "df[\"LTV\"] = df[\"ARPU\"] * 90"
   ]
  },
  {
   "cell_type": "code",
   "execution_count": 11,
   "id": "ce210488-5662-4652-a2e4-209dd1fed749",
   "metadata": {},
   "outputs": [
    {
     "data": {
      "text/html": [
       "<div>\n",
       "<style scoped>\n",
       "    .dataframe tbody tr th:only-of-type {\n",
       "        vertical-align: middle;\n",
       "    }\n",
       "\n",
       "    .dataframe tbody tr th {\n",
       "        vertical-align: top;\n",
       "    }\n",
       "\n",
       "    .dataframe thead th {\n",
       "        text-align: right;\n",
       "    }\n",
       "</style>\n",
       "<table border=\"1\" class=\"dataframe\">\n",
       "  <thead>\n",
       "    <tr style=\"text-align: right;\">\n",
       "      <th></th>\n",
       "      <th>date</th>\n",
       "      <th>app_name</th>\n",
       "      <th>country</th>\n",
       "      <th>platform</th>\n",
       "      <th>impressions</th>\n",
       "      <th>clicks</th>\n",
       "      <th>installs</th>\n",
       "      <th>spend</th>\n",
       "      <th>revenue</th>\n",
       "      <th>CTR</th>\n",
       "      <th>CVR</th>\n",
       "      <th>CPI</th>\n",
       "      <th>ROAS</th>\n",
       "      <th>ARPU</th>\n",
       "      <th>LTV</th>\n",
       "    </tr>\n",
       "  </thead>\n",
       "  <tbody>\n",
       "    <tr>\n",
       "      <th>0</th>\n",
       "      <td>2025-05-14</td>\n",
       "      <td>App_1</td>\n",
       "      <td>US</td>\n",
       "      <td>Android</td>\n",
       "      <td>28189</td>\n",
       "      <td>1162</td>\n",
       "      <td>602</td>\n",
       "      <td>981.54</td>\n",
       "      <td>1678.34</td>\n",
       "      <td>0.041222</td>\n",
       "      <td>0.518072</td>\n",
       "      <td>1.630465</td>\n",
       "      <td>1.709905</td>\n",
       "      <td>2.787940</td>\n",
       "      <td>250.914618</td>\n",
       "    </tr>\n",
       "    <tr>\n",
       "      <th>1</th>\n",
       "      <td>2025-05-14</td>\n",
       "      <td>App_1</td>\n",
       "      <td>TR</td>\n",
       "      <td>iOS</td>\n",
       "      <td>33984</td>\n",
       "      <td>5045</td>\n",
       "      <td>1361</td>\n",
       "      <td>883.85</td>\n",
       "      <td>1672.53</td>\n",
       "      <td>0.148452</td>\n",
       "      <td>0.269772</td>\n",
       "      <td>0.649412</td>\n",
       "      <td>1.892323</td>\n",
       "      <td>1.228898</td>\n",
       "      <td>110.600808</td>\n",
       "    </tr>\n",
       "    <tr>\n",
       "      <th>2</th>\n",
       "      <td>2025-05-14</td>\n",
       "      <td>App_1</td>\n",
       "      <td>DE</td>\n",
       "      <td>Android</td>\n",
       "      <td>46873</td>\n",
       "      <td>5199</td>\n",
       "      <td>3023</td>\n",
       "      <td>2361.64</td>\n",
       "      <td>2491.91</td>\n",
       "      <td>0.110917</td>\n",
       "      <td>0.581458</td>\n",
       "      <td>0.781224</td>\n",
       "      <td>1.055161</td>\n",
       "      <td>0.824317</td>\n",
       "      <td>74.188521</td>\n",
       "    </tr>\n",
       "    <tr>\n",
       "      <th>3</th>\n",
       "      <td>2025-05-14</td>\n",
       "      <td>App_1</td>\n",
       "      <td>FR</td>\n",
       "      <td>Android</td>\n",
       "      <td>1574</td>\n",
       "      <td>31</td>\n",
       "      <td>15</td>\n",
       "      <td>25.75</td>\n",
       "      <td>4.97</td>\n",
       "      <td>0.019695</td>\n",
       "      <td>0.483871</td>\n",
       "      <td>1.716667</td>\n",
       "      <td>0.193010</td>\n",
       "      <td>0.331333</td>\n",
       "      <td>29.820000</td>\n",
       "    </tr>\n",
       "    <tr>\n",
       "      <th>4</th>\n",
       "      <td>2025-05-14</td>\n",
       "      <td>App_1</td>\n",
       "      <td>BR</td>\n",
       "      <td>Android</td>\n",
       "      <td>10853</td>\n",
       "      <td>778</td>\n",
       "      <td>310</td>\n",
       "      <td>299.72</td>\n",
       "      <td>262.93</td>\n",
       "      <td>0.071685</td>\n",
       "      <td>0.398458</td>\n",
       "      <td>0.966839</td>\n",
       "      <td>0.877252</td>\n",
       "      <td>0.848161</td>\n",
       "      <td>76.334516</td>\n",
       "    </tr>\n",
       "  </tbody>\n",
       "</table>\n",
       "</div>"
      ],
      "text/plain": [
       "         date app_name country platform  impressions  clicks  installs  \\\n",
       "0  2025-05-14    App_1      US  Android        28189    1162       602   \n",
       "1  2025-05-14    App_1      TR      iOS        33984    5045      1361   \n",
       "2  2025-05-14    App_1      DE  Android        46873    5199      3023   \n",
       "3  2025-05-14    App_1      FR  Android         1574      31        15   \n",
       "4  2025-05-14    App_1      BR  Android        10853     778       310   \n",
       "\n",
       "     spend  revenue       CTR       CVR       CPI      ROAS      ARPU  \\\n",
       "0   981.54  1678.34  0.041222  0.518072  1.630465  1.709905  2.787940   \n",
       "1   883.85  1672.53  0.148452  0.269772  0.649412  1.892323  1.228898   \n",
       "2  2361.64  2491.91  0.110917  0.581458  0.781224  1.055161  0.824317   \n",
       "3    25.75     4.97  0.019695  0.483871  1.716667  0.193010  0.331333   \n",
       "4   299.72   262.93  0.071685  0.398458  0.966839  0.877252  0.848161   \n",
       "\n",
       "          LTV  \n",
       "0  250.914618  \n",
       "1  110.600808  \n",
       "2   74.188521  \n",
       "3   29.820000  \n",
       "4   76.334516  "
      ]
     },
     "execution_count": 11,
     "metadata": {},
     "output_type": "execute_result"
    }
   ],
   "source": [
    "df.head()"
   ]
  },
  {
   "cell_type": "markdown",
   "id": "1eb842e5-b13d-4237-98df-10e288ba1ae5",
   "metadata": {},
   "source": [
    "## Breakdown + Excel Export"
   ]
  },
  {
   "cell_type": "code",
   "execution_count": 15,
   "id": "b89c1c96-52b6-42b3-b106-ad27b3709160",
   "metadata": {},
   "outputs": [],
   "source": [
    "# Breakdown: KPI averages by Country, Platform, and Application\n",
    "by_country = df.groupby(\"country\").mean(numeric_only=True).reset_index()\n",
    "by_platform = df.groupby(\"platform\").mean(numeric_only=True).reset_index()\n",
    "by_app = df.groupby(\"app_name\").mean(numeric_only=True).reset_index()"
   ]
  },
  {
   "cell_type": "code",
   "execution_count": 16,
   "id": "4f6b6d53-ae80-45f3-9b94-6df14fd6413b",
   "metadata": {},
   "outputs": [],
   "source": [
    "# Saving an Excel report\n",
    "report_path = \"../reports/kpi_report.xlsx\"\n",
    "os.makedirs(\"../reports\", exist_ok=True)"
   ]
  },
  {
   "cell_type": "code",
   "execution_count": 17,
   "id": "0120a4f1-d5b6-4b3a-b559-2db2f314c1d3",
   "metadata": {},
   "outputs": [
    {
     "name": "stdout",
     "output_type": "stream",
     "text": [
      " KPI report created: ../reports/kpi_report.xlsx\n"
     ]
    }
   ],
   "source": [
    "with pd.ExcelWriter(report_path, engine=\"openpyxl\") as writer:\n",
    "    by_country.to_excel(writer, sheet_name=\"by_country\", index=False)\n",
    "    by_platform.to_excel(writer, sheet_name=\"by_platform\", index=False)\n",
    "    by_app.to_excel(writer, sheet_name=\"by_app\", index=False)\n",
    "\n",
    "print(f\" KPI report created: {report_path}\")\n"
   ]
  },
  {
   "cell_type": "code",
   "execution_count": null,
   "id": "892c710a-ee40-4584-97c0-ed8773b27328",
   "metadata": {},
   "outputs": [],
   "source": []
  }
 ],
 "metadata": {
  "kernelspec": {
   "display_name": "Python 3 (ipykernel)",
   "language": "python",
   "name": "python3"
  },
  "language_info": {
   "codemirror_mode": {
    "name": "ipython",
    "version": 3
   },
   "file_extension": ".py",
   "mimetype": "text/x-python",
   "name": "python",
   "nbconvert_exporter": "python",
   "pygments_lexer": "ipython3",
   "version": "3.12.7"
  }
 },
 "nbformat": 4,
 "nbformat_minor": 5
}
