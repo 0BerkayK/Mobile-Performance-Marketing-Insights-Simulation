{
 "cells": [
  {
   "cell_type": "code",
   "execution_count": 13,
   "id": "f0c55239-75be-4d6e-afac-bf6db49dfca4",
   "metadata": {},
   "outputs": [],
   "source": [
    "import pandas as pd\n",
    "import numpy as np\n",
    "import random\n",
    "import os"
   ]
  },
  {
   "cell_type": "code",
   "execution_count": 14,
   "id": "266183af-7cea-42d5-8e67-00f061070f50",
   "metadata": {},
   "outputs": [],
   "source": [
    "# Fake data parameters\n",
    "apps = [f\"App_{i}\" for i in range(1, 21)]\n",
    "countries = [\"US\", \"TR\", \"DE\", \"FR\", \"BR\", \"IN\", \"UK\", \"CA\", \"AU\"]\n",
    "platforms = [\"iOS\", \"Android\"]\n",
    "dates = pd.date_range(end=pd.Timestamp.today(), periods=90)"
   ]
  },
  {
   "cell_type": "code",
   "execution_count": 15,
   "id": "20def340-be33-4c56-b784-5e6db12f5338",
   "metadata": {},
   "outputs": [],
   "source": [
    "data = []\n",
    "for date in dates:\n",
    "    for app in apps:\n",
    "        for country in countries:\n",
    "            platform = random.choice(platforms)\n",
    "            impressions = np.random.randint(1000, 50000)\n",
    "            clicks = int(impressions * np.random.uniform(0.01, 0.15))\n",
    "            installs = int(clicks * np.random.uniform(0.2, 0.6))\n",
    "            spend = round(installs * np.random.uniform(0.5, 2.5), 2)\n",
    "            revenue = round(installs * np.random.uniform(0.3, 3.0), 2)\n",
    "            data.append([\n",
    "                date.date(), app, country, platform,\n",
    "                impressions, clicks, installs, spend, revenue\n",
    "            ])\n"
   ]
  },
  {
   "cell_type": "code",
   "execution_count": 16,
   "id": "635e660b-3fbc-4ff7-9b99-314cebd2c3a5",
   "metadata": {},
   "outputs": [],
   "source": [
    "df = pd.DataFrame(data, columns=[\n",
    "    \"date\", \"app_name\", \"country\", \"platform\",\n",
    "    \"impressions\", \"clicks\", \"installs\", \"spend\", \"revenue\"\n",
    "])\n"
   ]
  },
  {
   "cell_type": "code",
   "execution_count": 18,
   "id": "dd7e23c0-81a9-49a4-81e6-c26a239853b2",
   "metadata": {},
   "outputs": [
    {
     "name": "stdout",
     "output_type": "stream",
     "text": [
      "date           0\n",
      "app_name       0\n",
      "country        0\n",
      "platform       0\n",
      "impressions    0\n",
      "clicks         0\n",
      "installs       0\n",
      "spend          0\n",
      "revenue        0\n",
      "dtype: int64\n"
     ]
    }
   ],
   "source": [
    "# Checking missing values\n",
    "print(df.isnull().sum())"
   ]
  },
  {
   "cell_type": "code",
   "execution_count": 20,
   "id": "5a2eacf0-506c-4e0a-82d5-73429ac48f67",
   "metadata": {},
   "outputs": [
    {
     "name": "stdout",
     "output_type": "stream",
     "text": [
      "impressions: 0 negatif value\n",
      "clicks: 0 negatif value\n",
      "installs: 0 negatif value\n",
      "spend: 0 negatif value\n",
      "revenue: 0 negatif value\n"
     ]
    }
   ],
   "source": [
    "# Negative value control\n",
    "for col in [\"impressions\", \"clicks\", \"installs\", \"spend\", \"revenue\"]:\n",
    "    print(f\"{col}: {(df[col] < 0).sum()} negatif value\")"
   ]
  },
  {
   "cell_type": "code",
   "execution_count": 21,
   "id": "83aa3a4e-454c-4a79-be50-3ecdd0205024",
   "metadata": {},
   "outputs": [],
   "source": [
    "# Date format\n",
    "df[\"date\"] = pd.to_datetime(df[\"date\"], errors=\"coerce\")"
   ]
  },
  {
   "cell_type": "code",
   "execution_count": 22,
   "id": "424a6384-d1ff-4d52-8b5e-546bc8296665",
   "metadata": {},
   "outputs": [
    {
     "name": "stdout",
     "output_type": "stream",
     "text": [
      "\n",
      " campaign_data.csv was created and saved.\n"
     ]
    }
   ],
   "source": [
    "# Save data\n",
    "\n",
    "os.makedirs(\"../data\", exist_ok=True)\n",
    "df.to_csv(\"../data/campaign_data.csv\", index=False)\n",
    "\n",
    "print(\"\\n campaign_data.csv was created and saved.\")"
   ]
  },
  {
   "cell_type": "code",
   "execution_count": 26,
   "id": "1c591040-69e3-4712-97cb-8194d4b668d7",
   "metadata": {},
   "outputs": [
    {
     "data": {
      "text/html": [
       "<div>\n",
       "<style scoped>\n",
       "    .dataframe tbody tr th:only-of-type {\n",
       "        vertical-align: middle;\n",
       "    }\n",
       "\n",
       "    .dataframe tbody tr th {\n",
       "        vertical-align: top;\n",
       "    }\n",
       "\n",
       "    .dataframe thead th {\n",
       "        text-align: right;\n",
       "    }\n",
       "</style>\n",
       "<table border=\"1\" class=\"dataframe\">\n",
       "  <thead>\n",
       "    <tr style=\"text-align: right;\">\n",
       "      <th></th>\n",
       "      <th>date</th>\n",
       "      <th>app_name</th>\n",
       "      <th>country</th>\n",
       "      <th>platform</th>\n",
       "      <th>impressions</th>\n",
       "      <th>clicks</th>\n",
       "      <th>installs</th>\n",
       "      <th>spend</th>\n",
       "      <th>revenue</th>\n",
       "    </tr>\n",
       "  </thead>\n",
       "  <tbody>\n",
       "    <tr>\n",
       "      <th>0</th>\n",
       "      <td>2025-05-14</td>\n",
       "      <td>App_1</td>\n",
       "      <td>US</td>\n",
       "      <td>Android</td>\n",
       "      <td>28189</td>\n",
       "      <td>1162</td>\n",
       "      <td>602</td>\n",
       "      <td>981.54</td>\n",
       "      <td>1678.34</td>\n",
       "    </tr>\n",
       "    <tr>\n",
       "      <th>1</th>\n",
       "      <td>2025-05-14</td>\n",
       "      <td>App_1</td>\n",
       "      <td>TR</td>\n",
       "      <td>iOS</td>\n",
       "      <td>33984</td>\n",
       "      <td>5045</td>\n",
       "      <td>1361</td>\n",
       "      <td>883.85</td>\n",
       "      <td>1672.53</td>\n",
       "    </tr>\n",
       "    <tr>\n",
       "      <th>2</th>\n",
       "      <td>2025-05-14</td>\n",
       "      <td>App_1</td>\n",
       "      <td>DE</td>\n",
       "      <td>Android</td>\n",
       "      <td>46873</td>\n",
       "      <td>5199</td>\n",
       "      <td>3023</td>\n",
       "      <td>2361.64</td>\n",
       "      <td>2491.91</td>\n",
       "    </tr>\n",
       "    <tr>\n",
       "      <th>3</th>\n",
       "      <td>2025-05-14</td>\n",
       "      <td>App_1</td>\n",
       "      <td>FR</td>\n",
       "      <td>Android</td>\n",
       "      <td>1574</td>\n",
       "      <td>31</td>\n",
       "      <td>15</td>\n",
       "      <td>25.75</td>\n",
       "      <td>4.97</td>\n",
       "    </tr>\n",
       "    <tr>\n",
       "      <th>4</th>\n",
       "      <td>2025-05-14</td>\n",
       "      <td>App_1</td>\n",
       "      <td>BR</td>\n",
       "      <td>Android</td>\n",
       "      <td>10853</td>\n",
       "      <td>778</td>\n",
       "      <td>310</td>\n",
       "      <td>299.72</td>\n",
       "      <td>262.93</td>\n",
       "    </tr>\n",
       "    <tr>\n",
       "      <th>...</th>\n",
       "      <td>...</td>\n",
       "      <td>...</td>\n",
       "      <td>...</td>\n",
       "      <td>...</td>\n",
       "      <td>...</td>\n",
       "      <td>...</td>\n",
       "      <td>...</td>\n",
       "      <td>...</td>\n",
       "      <td>...</td>\n",
       "    </tr>\n",
       "    <tr>\n",
       "      <th>16195</th>\n",
       "      <td>2025-08-11</td>\n",
       "      <td>App_20</td>\n",
       "      <td>BR</td>\n",
       "      <td>iOS</td>\n",
       "      <td>4308</td>\n",
       "      <td>331</td>\n",
       "      <td>122</td>\n",
       "      <td>106.60</td>\n",
       "      <td>247.77</td>\n",
       "    </tr>\n",
       "    <tr>\n",
       "      <th>16196</th>\n",
       "      <td>2025-08-11</td>\n",
       "      <td>App_20</td>\n",
       "      <td>IN</td>\n",
       "      <td>iOS</td>\n",
       "      <td>27618</td>\n",
       "      <td>1114</td>\n",
       "      <td>658</td>\n",
       "      <td>1249.01</td>\n",
       "      <td>371.02</td>\n",
       "    </tr>\n",
       "    <tr>\n",
       "      <th>16197</th>\n",
       "      <td>2025-08-11</td>\n",
       "      <td>App_20</td>\n",
       "      <td>UK</td>\n",
       "      <td>iOS</td>\n",
       "      <td>23480</td>\n",
       "      <td>1145</td>\n",
       "      <td>330</td>\n",
       "      <td>401.80</td>\n",
       "      <td>158.74</td>\n",
       "    </tr>\n",
       "    <tr>\n",
       "      <th>16198</th>\n",
       "      <td>2025-08-11</td>\n",
       "      <td>App_20</td>\n",
       "      <td>CA</td>\n",
       "      <td>Android</td>\n",
       "      <td>1060</td>\n",
       "      <td>147</td>\n",
       "      <td>39</td>\n",
       "      <td>77.53</td>\n",
       "      <td>39.45</td>\n",
       "    </tr>\n",
       "    <tr>\n",
       "      <th>16199</th>\n",
       "      <td>2025-08-11</td>\n",
       "      <td>App_20</td>\n",
       "      <td>AU</td>\n",
       "      <td>iOS</td>\n",
       "      <td>2173</td>\n",
       "      <td>85</td>\n",
       "      <td>18</td>\n",
       "      <td>27.80</td>\n",
       "      <td>40.01</td>\n",
       "    </tr>\n",
       "  </tbody>\n",
       "</table>\n",
       "<p>16200 rows × 9 columns</p>\n",
       "</div>"
      ],
      "text/plain": [
       "            date app_name country platform  impressions  clicks  installs  \\\n",
       "0     2025-05-14    App_1      US  Android        28189    1162       602   \n",
       "1     2025-05-14    App_1      TR      iOS        33984    5045      1361   \n",
       "2     2025-05-14    App_1      DE  Android        46873    5199      3023   \n",
       "3     2025-05-14    App_1      FR  Android         1574      31        15   \n",
       "4     2025-05-14    App_1      BR  Android        10853     778       310   \n",
       "...          ...      ...     ...      ...          ...     ...       ...   \n",
       "16195 2025-08-11   App_20      BR      iOS         4308     331       122   \n",
       "16196 2025-08-11   App_20      IN      iOS        27618    1114       658   \n",
       "16197 2025-08-11   App_20      UK      iOS        23480    1145       330   \n",
       "16198 2025-08-11   App_20      CA  Android         1060     147        39   \n",
       "16199 2025-08-11   App_20      AU      iOS         2173      85        18   \n",
       "\n",
       "         spend  revenue  \n",
       "0       981.54  1678.34  \n",
       "1       883.85  1672.53  \n",
       "2      2361.64  2491.91  \n",
       "3        25.75     4.97  \n",
       "4       299.72   262.93  \n",
       "...        ...      ...  \n",
       "16195   106.60   247.77  \n",
       "16196  1249.01   371.02  \n",
       "16197   401.80   158.74  \n",
       "16198    77.53    39.45  \n",
       "16199    27.80    40.01  \n",
       "\n",
       "[16200 rows x 9 columns]"
      ]
     },
     "execution_count": 26,
     "metadata": {},
     "output_type": "execute_result"
    }
   ],
   "source": [
    "# Preview \n",
    "df"
   ]
  },
  {
   "cell_type": "code",
   "execution_count": null,
   "id": "22cfe53b-ecaa-4e14-8055-e2108b665f64",
   "metadata": {},
   "outputs": [],
   "source": []
  }
 ],
 "metadata": {
  "kernelspec": {
   "display_name": "Python 3 (ipykernel)",
   "language": "python",
   "name": "python3"
  },
  "language_info": {
   "codemirror_mode": {
    "name": "ipython",
    "version": 3
   },
   "file_extension": ".py",
   "mimetype": "text/x-python",
   "name": "python",
   "nbconvert_exporter": "python",
   "pygments_lexer": "ipython3",
   "version": "3.12.7"
  }
 },
 "nbformat": 4,
 "nbformat_minor": 5
}
